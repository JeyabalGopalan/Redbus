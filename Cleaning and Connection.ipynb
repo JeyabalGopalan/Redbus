{
 "cells": [
  {
   "cell_type": "markdown",
   "id": "e4aa9961-1c65-4bf9-8b1d-06c235631eec",
   "metadata": {},
   "source": [
    "Step 1: Combine All Datasets"
   ]
  },
  {
   "cell_type": "code",
   "execution_count": 50,
   "id": "a2372abf-0a09-403a-9aeb-80d8fae2ee32",
   "metadata": {},
   "outputs": [],
   "source": [
    "import pandas as pd\n",
    "import numpy as np\n",
    "import pymysql\n",
    "\n",
    "# Define file-to-state mapping\n",
    "datasets = {\n",
    "    \"Telangana_bus_details.csv\": \"Telangana\",\n",
    "    \"kerala_bus_details.csv\": \"Kerala\",\n",
    "    \"Andhra_bus_details.csv\": \"Andhra\",\n",
    "    \"Kadamba_bus_details.csv\": \"Kadamba\",\n",
    "    \"Rajasthan_bus_details.csv\": \"Rajasthan\",\n",
    "    \"SBengal_bus_details.csv\": \"South Bengal\",\n",
    "    \"Himachal_bus_details.csv\": \"Himachal\",\n",
    "    \"Assam_bus_details.csv\": \"Assam\",\n",
    "    \"Jammu_bus_details.csv\": \"Jammu\",\n",
    "    \"WBengal_bus_details.csv\": \"West Bengal\",\n",
    "    \"Bihar_bus_details.csv\": \"Bihar\"\n",
    "}\n",
    "\n",
    "# Combine all datasets\n",
    "dataframes = []\n",
    "for file, state in datasets.items():\n",
    "    try:\n",
    "        df = pd.read_csv(file)\n",
    "        df.insert(0, \"State\", state)  # Add state column\n",
    "        dataframes.append(df)\n",
    "    except FileNotFoundError:\n",
    "        print(f\"File {file} not found. Skipping...\")\n",
    "    except Exception as e:\n",
    "        print(f\"Error processing {file}: {e}\")\n",
    "\n",
    "Overall_df = pd.concat(dataframes, ignore_index=True)"
   ]
  },
  {
   "cell_type": "markdown",
   "id": "161bede4-cc44-4ccc-88da-8e4c37caafdb",
   "metadata": {},
   "source": [
    "Step 2: Clean Data"
   ]
  },
  {
   "cell_type": "code",
   "execution_count": 51,
   "id": "e666e875-45a1-47b3-9c11-d55cd4c6ca49",
   "metadata": {},
   "outputs": [],
   "source": [
    "# Ensure specific columns are numeric\n",
    "Overall_df['Price'] = pd.to_numeric(Overall_df['Price'], errors='coerce').fillna(0)\n",
    "Overall_df['Star_Rating'] = pd.to_numeric(Overall_df['Star_Rating'], errors='coerce').fillna(0)\n",
    "\n",
    "# Fill NaNs with default values\n",
    "columns_with_defaults = {\n",
    "    'Bus_Name': 'Unknown Bus',\n",
    "    'Route_Name': 'Unknown Route',\n",
    "    'Departing_Time': 'Unknown Start Time',\n",
    "    'Reaching_Time': 'Unknown End Time',\n",
    "    'Seat_Availability': 'Unknown Seats',\n",
    "    'Duration': 'Unknown Duration',\n",
    "    'Bus_Type': 'Unknown Type'\n",
    "}\n",
    "Overall_df.fillna(columns_with_defaults, inplace=True)\n",
    "\n",
    "# Replace remaining NaNs with None\n",
    "Overall_df.replace({np.nan: None}, inplace=True)"
   ]
  },
  {
   "cell_type": "markdown",
   "id": "970596be-e9d4-4b0d-bad6-3d1b2c771c80",
   "metadata": {},
   "source": [
    "Step 3: Save the cleaned data to a CSV"
   ]
  },
  {
   "cell_type": "code",
   "execution_count": 52,
   "id": "27cee4e1-2ab2-4684-b591-06b252d14665",
   "metadata": {},
   "outputs": [],
   "source": [
    "path = r\"C:\\Users\\jeyaj\\Downloads\\GUVI\\RedBus Project\\Overall_Bus_details.csv\"\n",
    "Overall_df.to_csv(path, index=False)"
   ]
  },
  {
   "cell_type": "markdown",
   "id": "1773ca82-7b1b-488f-a180-d16a339de0c6",
   "metadata": {},
   "source": [
    "Step 4: Connect to MySQL"
   ]
  },
  {
   "cell_type": "code",
   "execution_count": 53,
   "id": "7ef3d1f5-5279-4bd0-973b-2dc1a77f671a",
   "metadata": {},
   "outputs": [
    {
     "data": {
      "text/plain": [
       "0"
      ]
     },
     "execution_count": 53,
     "metadata": {},
     "output_type": "execute_result"
    }
   ],
   "source": [
    "conn = pymysql.connect(host='127.0.0.1', user='root', passwd='Mysql@17072000')\n",
    "cur = conn.cursor()\n",
    "\n",
    "# Create database if it doesn't exist\n",
    "cur.execute(\"CREATE DATABASE IF NOT EXISTS Overall_Bus_details\")\n",
    "cur.execute(\"USE Overall_Bus_details\")"
   ]
  },
  {
   "cell_type": "markdown",
   "id": "c27632f7-d2a1-4591-8b8f-b47568796899",
   "metadata": {},
   "source": [
    "Step 5: Create Table"
   ]
  },
  {
   "cell_type": "code",
   "execution_count": 54,
   "id": "4fb024aa-6fd4-4aca-88d5-7a2d2bc2e404",
   "metadata": {},
   "outputs": [
    {
     "name": "stdout",
     "output_type": "stream",
     "text": [
      "Table Created\n"
     ]
    }
   ],
   "source": [
    "cur.execute('''\n",
    "    CREATE TABLE IF NOT EXISTS Bus_details (\n",
    "        ID INT AUTO_INCREMENT PRIMARY KEY,\n",
    "        State VARCHAR(255) NOT NULL,\n",
    "        Route_Name VARCHAR(255) NOT NULL,\n",
    "        Route_Link VARCHAR(255) NULL,\n",
    "        Bus_Name VARCHAR(255) NOT NULL,\n",
    "        Bus_Type VARCHAR(255) NOT NULL,\n",
    "        Start_Time VARCHAR(255) NOT NULL,\n",
    "        Total_Duration VARCHAR(255) NOT NULL,\n",
    "        End_Time VARCHAR(255) NOT NULL,\n",
    "        Star_Rating FLOAT NULL,\n",
    "        Price FLOAT NULL,\n",
    "        Seats_Available VARCHAR(255) NOT NULL\n",
    "    )\n",
    "''')\n",
    "print(\"Table Created\")"
   ]
  },
  {
   "cell_type": "markdown",
   "id": "ec56b0b1-6486-4124-a65f-37e4248bb0a6",
   "metadata": {},
   "source": [
    "Step 6: Insert Data"
   ]
  },
  {
   "cell_type": "code",
   "execution_count": 55,
   "id": "b41e504c-1ed6-415f-bbd6-90ecf80f021e",
   "metadata": {},
   "outputs": [
    {
     "name": "stdout",
     "output_type": "stream",
     "text": [
      "Data Inserted Successfully\n"
     ]
    }
   ],
   "source": [
    "Insert_data = '''\n",
    "    INSERT INTO Bus_details (\n",
    "        State,\n",
    "        Route_Name,\n",
    "        Route_Link,\n",
    "        Bus_Name,\n",
    "        Bus_Type,\n",
    "        Start_Time,\n",
    "        Total_Duration,\n",
    "        End_Time,\n",
    "        Star_Rating,\n",
    "        Price,\n",
    "        Seats_Available\n",
    "    ) \n",
    "    VALUES (%s, %s, %s, %s, %s, %s, %s, %s, %s, %s, %s)\n",
    "'''\n",
    "\n",
    "Data = Overall_df.values.tolist()\n",
    "\n",
    "try:\n",
    "    # Insert data row by row\n",
    "    for row in Data:\n",
    "        try:\n",
    "            cur.execute(Insert_data, row)\n",
    "        except Exception as e:\n",
    "            print(f\"Error inserting row {row}: {e}\")\n",
    "            conn.rollback()\n",
    "    conn.commit()\n",
    "    print(\"Data Inserted Successfully\")\n",
    "except Exception as e:\n",
    "    conn.rollback()\n",
    "    print(f\"Error during insertion: {e}\")\n",
    "finally:\n",
    "    conn.close()"
   ]
  },
  {
   "cell_type": "code",
   "execution_count": null,
   "id": "f75c9119-baa9-43c6-b766-1ab9af5c21d4",
   "metadata": {},
   "outputs": [],
   "source": []
  }
 ],
 "metadata": {
  "kernelspec": {
   "display_name": "Python 3 (ipykernel)",
   "language": "python",
   "name": "python3"
  },
  "language_info": {
   "codemirror_mode": {
    "name": "ipython",
    "version": 3
   },
   "file_extension": ".py",
   "mimetype": "text/x-python",
   "name": "python",
   "nbconvert_exporter": "python",
   "pygments_lexer": "ipython3",
   "version": "3.11.7"
  }
 },
 "nbformat": 4,
 "nbformat_minor": 5
}
